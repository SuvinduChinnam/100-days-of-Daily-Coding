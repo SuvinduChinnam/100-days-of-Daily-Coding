{
 "cells": [
  {
   "cell_type": "code",
   "execution_count": 22,
   "metadata": {},
   "outputs": [],
   "source": [
    "import random"
   ]
  },
  {
   "cell_type": "code",
   "execution_count": 37,
   "metadata": {},
   "outputs": [],
   "source": [
    "req=[]\n",
    "for i in range(20):\n",
    "    n=random.randrange(0,100)\n",
    "    req.append(n)   "
   ]
  },
  {
   "cell_type": "code",
   "execution_count": 38,
   "metadata": {},
   "outputs": [],
   "source": [
    "def selection_sort(arr):\n",
    "    i = 0\n",
    "    while i < len(arr):\n",
    "        min_ = arr[i]\n",
    "        index_ = i\n",
    "        for j in range(i+1,len(arr)):\n",
    "            if arr[j] < min_:\n",
    "                index_ = j\n",
    "                min_ = arr[j]\n",
    "                arr[i] , arr[index_] = arr[index_] , arr[i]\n",
    "        i += 1\n",
    "    return arr\n",
    "\n"
   ]
  },
  {
   "cell_type": "code",
   "execution_count": 39,
   "metadata": {},
   "outputs": [
    {
     "name": "stdout",
     "output_type": "stream",
     "text": [
      "[11, 14, 14, 19, 20, 26, 32, 33, 33, 34, 42, 45, 46, 53, 67, 68, 70, 84, 89, 95]\n",
      "CPU times: user 302 µs, sys: 140 µs, total: 442 µs\n",
      "Wall time: 373 µs\n"
     ]
    }
   ],
   "source": [
    "%%time\n",
    "print(selection_sort(req))"
   ]
  },
  {
   "cell_type": "code",
   "execution_count": null,
   "metadata": {},
   "outputs": [],
   "source": []
  }
 ],
 "metadata": {
  "kernelspec": {
   "display_name": "Python 3",
   "language": "python",
   "name": "python3"
  },
  "language_info": {
   "codemirror_mode": {
    "name": "ipython",
    "version": 3
   },
   "file_extension": ".py",
   "mimetype": "text/x-python",
   "name": "python",
   "nbconvert_exporter": "python",
   "pygments_lexer": "ipython3",
   "version": "3.8.5"
  }
 },
 "nbformat": 4,
 "nbformat_minor": 4
}
