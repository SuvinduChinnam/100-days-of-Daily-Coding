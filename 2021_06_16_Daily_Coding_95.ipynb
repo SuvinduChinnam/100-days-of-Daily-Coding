{
 "cells": [
  {
   "cell_type": "code",
   "execution_count": 1,
   "metadata": {},
   "outputs": [],
   "source": [
    "import smtplib"
   ]
  },
  {
   "cell_type": "code",
   "execution_count": 27,
   "metadata": {},
   "outputs": [],
   "source": [
    "def sending_email(from_email, to_email_list,subject_line, body_message,login_username, login_pwd,\n",
    "              server_add='smtp.gmail.com:587'):\n",
    "    a  = 'From: %s' % from_email\n",
    "    a += 'To: %s' % ','.join(to_email_list)\n",
    "    a += 'Subject: %s' % subject\n",
    "    message = a + message\n",
    "    server_instance = smtplib.SMTP(server_add)\n",
    "    server_instance.starttls()\n",
    "    server_instance.login(login_username,login_pwd)\n",
    "    problems = server_instance.sendmail(from_email, to_email_list, message)\n",
    "    server_instance.quit()"
   ]
  },
  {
   "cell_type": "code",
   "execution_count": 29,
   "metadata": {},
   "outputs": [],
   "source": [
    "sending_email(from_email='abc.fd@gmail.com', to_email_list =['ghs.ds@gmail.com','ret5@gmail.com'],\n",
    "          subject_line='Test Message', body_message= 'Have a bright and shiny day!', \n",
    "          login_username= 'abc.fd', login_pwd= 'XXX')"
   ]
  },
  {
   "cell_type": "code",
   "execution_count": null,
   "metadata": {},
   "outputs": [],
   "source": []
  },
  {
   "cell_type": "code",
   "execution_count": null,
   "metadata": {},
   "outputs": [],
   "source": []
  }
 ],
 "metadata": {
  "kernelspec": {
   "display_name": "Python 3",
   "language": "python",
   "name": "python3"
  },
  "language_info": {
   "codemirror_mode": {
    "name": "ipython",
    "version": 3
   },
   "file_extension": ".py",
   "mimetype": "text/x-python",
   "name": "python",
   "nbconvert_exporter": "python",
   "pygments_lexer": "ipython3",
   "version": "3.8.5"
  }
 },
 "nbformat": 4,
 "nbformat_minor": 4
}
