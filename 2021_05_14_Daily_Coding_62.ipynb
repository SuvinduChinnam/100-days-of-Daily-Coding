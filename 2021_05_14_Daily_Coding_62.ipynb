{
 "cells": [
  {
   "cell_type": "code",
   "execution_count": 114,
   "metadata": {},
   "outputs": [],
   "source": [
    "import sys\n",
    "import pandas as pd\n",
    "from ast import literal_eval\n",
    "import ast"
   ]
  },
  {
   "cell_type": "code",
   "execution_count": null,
   "metadata": {},
   "outputs": [],
   "source": [
    "f=open('/Users/suvindu.chinnam/Desktop/TopCell.v.txt')\n",
    "netlines = f.readlines()\n",
    "f.close()"
   ]
  },
  {
   "cell_type": "code",
   "execution_count": 16,
   "metadata": {},
   "outputs": [],
   "source": [
    "mod_list=[]\n",
    "cell_name=[]\n",
    "for i in range(len(netlines)): \n",
    "    if netlines[i].lstrip().startswith('module'):\n",
    "        cell_name.append(netlines[i].split('module ')[1].split('(')[0])        \n",
    "        temp_list=\"\"\n",
    "        for j in netlines[i+1:]:\n",
    "            if j.lstrip().startswith('endmodule'):\n",
    "                break\n",
    "            else:\n",
    "                temp_list=temp_list+j.strip(';\\n')\n",
    "        mod_list.append(temp_list)       "
   ]
  },
  {
   "cell_type": "code",
   "execution_count": 71,
   "metadata": {},
   "outputs": [],
   "source": [
    "temp_dict = {}\n",
    "for i in cell_name:\n",
    "    temp_dict[i] = None"
   ]
  },
  {
   "cell_type": "code",
   "execution_count": 92,
   "metadata": {},
   "outputs": [],
   "source": [
    "for i in range(len(mod_list)):\n",
    "    temp_ls=[]\n",
    "    b=f'{cell_name[i]}'\n",
    "    dict_t={}\n",
    "    for j in search_list:\n",
    "        a=mod_list[i].count(j)\n",
    "        if a!=0:\n",
    "            dict_t[j]=a\n",
    "    temp_ls.append(dict_t)  \n",
    "    temp_dict[b]=temp_ls"
   ]
  },
  {
   "cell_type": "code",
   "execution_count": 93,
   "metadata": {},
   "outputs": [],
   "source": [
    "# for i in range(len(mod_list)):\n",
    "#     temp_ls=\"\"\n",
    "#     temp_ls=temp_ls+f'{cell_name[i]}='\n",
    "#     for j in search_list:\n",
    "#         temp_ls=temp_ls+\" + \"\n",
    "#         a=mod_list[i].count(j)\n",
    "#         temp_ls=temp_ls+f'{j}* {a}'\n",
    "#     print(temp_ls)\n",
    "#     print(\"\")"
   ]
  },
  {
   "cell_type": "code",
   "execution_count": 347,
   "metadata": {},
   "outputs": [],
   "source": [
    "main_df=pd.DataFrame()\n",
    "for i in temp_dict.keys():\n",
    "    df=pd.DataFrame(temp_dict[i])\n",
    "    df['Module']=i\n",
    "    main_df=pd.concat([main_df,df])"
   ]
  },
  {
   "cell_type": "code",
   "execution_count": 348,
   "metadata": {},
   "outputs": [],
   "source": [
    "main_df.columns=main_df.columns.str.strip(\" \")\n",
    "main_df.Module=main_df.Module.str.strip(\" \")"
   ]
  },
  {
   "cell_type": "code",
   "execution_count": 582,
   "metadata": {},
   "outputs": [],
   "source": [
    " def get_stuff(df,val,str_req,c): \n",
    "    temp=df.copy()\n",
    "    temp=temp[temp['Module']==val]\n",
    "    temp=temp.dropna(axis=1, how='all')\n",
    "    l=list(temp.columns)\n",
    "    l.remove('Module') \n",
    "    for col in l:\n",
    "        if col not in primitive:\n",
    "            c=int(temp[col][0])\n",
    "            get_stuff(df,col,str_req,c)\n",
    "        else:\n",
    "            d=int(temp[col][0])\n",
    "            fg=f'{col}_'\n",
    "            t=f'{c*d*fg}'\n",
    "            str_req.append(t)\n",
    "    c=1\n",
    "    output=str_req \n",
    "    return output"
   ]
  },
  {
   "cell_type": "code",
   "execution_count": 583,
   "metadata": {},
   "outputs": [],
   "source": [
    "def new_d(df,val):\n",
    "    str_req=[]\n",
    "    t=get_stuff(df,val,str_req,1) \n",
    "    t=('').join(t)\n",
    "    for i in primitive:\n",
    "        gh=t.count(i)\n",
    "        print(i,gh)"
   ]
  },
  {
   "cell_type": "code",
   "execution_count": 585,
   "metadata": {},
   "outputs": [
    {
     "name": "stdout",
     "output_type": "stream",
     "text": [
      "invN1 10\n",
      "nand4N1 0\n",
      "nand2N1 1\n",
      "nor2N1 2\n"
     ]
    }
   ],
   "source": [
    "new_d(main_df,'cellB')"
   ]
  },
  {
   "cell_type": "code",
   "execution_count": null,
   "metadata": {},
   "outputs": [],
   "source": []
  }
 ],
 "metadata": {
  "kernelspec": {
   "display_name": "Python 3",
   "language": "python",
   "name": "python3"
  },
  "language_info": {
   "codemirror_mode": {
    "name": "ipython",
    "version": 3
   },
   "file_extension": ".py",
   "mimetype": "text/x-python",
   "name": "python",
   "nbconvert_exporter": "python",
   "pygments_lexer": "ipython3",
   "version": "3.8.5"
  }
 },
 "nbformat": 4,
 "nbformat_minor": 4
}
