{
 "cells": [
  {
   "cell_type": "code",
   "execution_count": 7,
   "metadata": {},
   "outputs": [
    {
     "data": {
      "text/plain": [
       "0"
      ]
     },
     "execution_count": 7,
     "metadata": {},
     "output_type": "execute_result"
    }
   ],
   "source": [
    "import os\n",
    "os.system('say \"Hi How is your day\"')"
   ]
  },
  {
   "cell_type": "code",
   "execution_count": 26,
   "metadata": {},
   "outputs": [
    {
     "name": "stdout",
     "output_type": "stream",
     "text": [
      "one\t two\t y\t z\t \n"
     ]
    }
   ],
   "source": [
    "one='String'\n",
    "two='43'\n",
    "three=['g',1]\n",
    "y = \"My Name\"\n",
    "x = 2\n",
    "z = \"is Suvindu\"\n",
    "%who str"
   ]
  },
  {
   "cell_type": "code",
   "execution_count": 36,
   "metadata": {},
   "outputs": [
    {
     "name": "stdout",
     "output_type": "stream",
     "text": [
      "Value is 32\n",
      "Value is 33\n",
      "Value is 34\n",
      "Value is 35\n",
      "Value is 36\n"
     ]
    }
   ],
   "source": [
    "%%bash\n",
    "for i in {32..36}\n",
    "do echo \"Value is $i\"\n",
    "done"
   ]
  },
  {
   "cell_type": "code",
   "execution_count": 37,
   "metadata": {},
   "outputs": [
    {
     "name": "stdout",
     "output_type": "stream",
     "text": [
      "   1:\n",
      "import qgrid\n",
      "import pandas as pd\n",
      "   2: !jupyter nbextension enable --py widgetsnbextension\n",
      "   3: !jupyter nbextension enable --py --sys-prefix qgrid\n",
      "   4: df=pd.read_csv('housing.csv')\n",
      "   5: qgrid_widget = qgrid.show_grid(df)\n",
      "   6: qgrid_widget\n",
      "   7:\n",
      "import os\n",
      "os.system('say \"your program has finished\"')\n",
      "   8:\n",
      "from IPython.core.interactiveshell import InteractiveShell\n",
      "InteractiveShell.ast_node_interactivity = \"all\"\n",
      "   9:\n",
      "from pydataset import data\n",
      "quakes = data('quakes')\n",
      "quakes.head()\n",
      "quakes.tail()\n",
      "  10: pip install pydataset\n",
      "  11:\n",
      "from pydataset import data\n",
      "quakes = data('quakes')\n",
      "quakes.head()\n",
      "quakes.tail()\n",
      "  12:\n",
      "one = \"for the money\"\n",
      "two = \"for the show\"\n",
      "three = \"to get ready now go cat go\"\n",
      "%who str\n",
      "  13:\n",
      "y = \"My Name\"\n",
      "x = 2\n",
      "z = \"is Suvindu\"\n",
      "%who str\n",
      "  14:\n",
      "y = \"My Name\"\n",
      "x = 2\n",
      "z = \"is Suvindu\"\n",
      "%who str\n",
      "  15:\n",
      "from pydataset import data\n",
      "quakes = data('%who_ls')\n",
      "quakes.head()\n",
      "quakes.tail()\n",
      "  16:\n",
      "from pydataset import data\n",
      "quakes = data('quakes')\n",
      "quakes.head()\n",
      "quakes.tail()\n",
      "  17:\n",
      "from pydataset import data\n",
      "quakes = data('rain')\n",
      "quakes.head()\n",
      "quakes.tail()\n",
      "  18: data\n",
      "  19: data(ellipsis)\n",
      "  20: data('ellipsis')\n",
      "  21: data('rainfall')\n",
      "  22:\n",
      "from pydataset import data\n",
      "quakes = data('eartquake')\n",
      "quakes.head()\n",
      "quakes.tail()\n",
      "  23:\n",
      "from pydataset import data\n",
      "quakes = data('earthquake')\n",
      "quakes.head()\n",
      "quakes.tail()\n",
      "  24:\n",
      "from pydataset import data\n",
      "quakes = data('quakes')\n",
      "quakes.head()\n",
      "quakes.tail()\n",
      "  25:\n",
      "from pydataset import data\n",
      "earthquake = data('quakes')\n",
      "earthquake.head()\n",
      "  26:\n",
      "one='String'\n",
      "two='43'\n",
      "three=['g',1]\n",
      "y = \"My Name\"\n",
      "x = 2\n",
      "z = \"is Suvindu\"\n",
      "%who str\n",
      "  27:\n",
      "%%bash\n",
      "for i in {1..5}\n",
      "do echo \"i is $i\"\n",
      "done\n",
      "  28:\n",
      "%%bash\n",
      "for i in {1..5,3}\n",
      "do echo \"i is $i\"\n",
      "done\n",
      "  29:\n",
      "%%bash\n",
      "for i in {1..50,3}\n",
      "do echo \"i is $i\"\n",
      "done\n",
      "  30:\n",
      "%%bash\n",
      "for i in {1..50}\n",
      "do echo \"i is $i\"\n",
      "done\n",
      "  31:\n",
      "%%bash\n",
      "for i in {1..50}\n",
      "do echo \"Value is $i\"\n",
      "done\n",
      "  32:\n",
      "%%bash\n",
      "for i in {32..50}\n",
      "do echo \"Value is $i\"\n",
      "done\n",
      "  33: %history -n\n",
      "  34:\n",
      "%%bash\n",
      "for i in {a...x}\n",
      "do echo \"Value is $i\"\n",
      "done\n",
      "  35:\n",
      "%%bash\n",
      "for i in {32..50}\n",
      "do echo \"Value is $i\"\n",
      "done\n",
      "  36:\n",
      "%%bash\n",
      "for i in {32..36}\n",
      "do echo \"Value is $i\"\n",
      "done\n",
      "  37: %history -n\n"
     ]
    }
   ],
   "source": [
    "%history -n"
   ]
  },
  {
   "cell_type": "code",
   "execution_count": null,
   "metadata": {},
   "outputs": [],
   "source": []
  }
 ],
 "metadata": {
  "kernelspec": {
   "display_name": "Python 3",
   "language": "python",
   "name": "python3"
  },
  "language_info": {
   "codemirror_mode": {
    "name": "ipython",
    "version": 3
   },
   "file_extension": ".py",
   "mimetype": "text/x-python",
   "name": "python",
   "nbconvert_exporter": "python",
   "pygments_lexer": "ipython3",
   "version": "3.8.5"
  }
 },
 "nbformat": 4,
 "nbformat_minor": 4
}
