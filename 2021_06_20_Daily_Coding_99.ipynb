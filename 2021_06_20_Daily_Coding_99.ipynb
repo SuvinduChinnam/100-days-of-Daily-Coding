{
 "cells": [
  {
   "cell_type": "code",
   "execution_count": 1,
   "metadata": {},
   "outputs": [],
   "source": [
    "import smtplib\n",
    "import time\n",
    "import requests as rq\n",
    "from bs4 import BeautifulSoup"
   ]
  },
  {
   "cell_type": "code",
   "execution_count": 17,
   "metadata": {},
   "outputs": [],
   "source": [
    "\n",
    "header_ = {'User-Agent': 'Mozilla/5.0 (Macintosh; Intel Mac OS X 10_15_0) AppleWebKit/537.36 (KHTML, like Gecko) Chrome/78.0.3904.97 Safari/537.36'}\n",
    "\n",
    "site_to_look_for = \"https://www.amazon.in/Apple-iPhone-11-64GB-Green/dp/B07XVKBY68/ref=sr_1_7?keywords=iphone+11&qid=1573668357&sr=8-7\"\n"
   ]
  },
  {
   "cell_type": "code",
   "execution_count": 60,
   "metadata": {},
   "outputs": [],
   "source": [
    "def price():\n",
    "    html_ = rq.get(site_to_look_for, headers=header_).text\n",
    "    \n",
    "    soup_ = BeautifulSoup(html_, 'html.parser')\n",
    "    \n",
    "    price_ = [i.get_text() for i in\n",
    "             soup_.find_all('span', {'class': 'a-size-medium a-color-price priceBlockBuyingPriceString'})]\n",
    "\n",
    "    item_price = ''.join(price_)[2:8]\n",
    "    item_price = int(item_price.replace(',', ''))\n",
    "    if item_price < 50000:\n",
    "        email_to_send()"
   ]
  },
  {
   "cell_type": "code",
   "execution_count": 61,
   "metadata": {},
   "outputs": [],
   "source": [
    "def email_to_send():\n",
    "    server_ = smtplib.SMTP('smtp.gmail.com', 587)\n",
    "    server_.ehlo()\n",
    "    server_.starttls()\n",
    "    server_.ehlo()\n",
    "    server_.login('email address', 'email password')\n",
    "    \n",
    "    subject_ = \"Price of Apple-iPhone-11-64GB has decreased and is at less than 50k\"\n",
    "    body_ = \"Link: https://www.amazon.in/Apple-iPhone-11-64GB-Green/dp/B07XVKBY68/ref=sr_1_7?keywords=iphone+11&qid=1573668357&sr=8-7\"\n",
    "    messg = f\"Subject:{subject_}\\n\\n{body_}\"\n",
    "    \n",
    "    server_.sendmail('from email', 'to email', messg)\n",
    "    print(\"Done!\")\n",
    "    server_.quit()"
   ]
  },
  {
   "cell_type": "code",
   "execution_count": 63,
   "metadata": {},
   "outputs": [],
   "source": [
    "while True:\n",
    "    price()\n",
    "    time.sleep(200)"
   ]
  },
  {
   "cell_type": "code",
   "execution_count": null,
   "metadata": {},
   "outputs": [],
   "source": []
  }
 ],
 "metadata": {
  "kernelspec": {
   "display_name": "Python 3",
   "language": "python",
   "name": "python3"
  },
  "language_info": {
   "codemirror_mode": {
    "name": "ipython",
    "version": 3
   },
   "file_extension": ".py",
   "mimetype": "text/x-python",
   "name": "python",
   "nbconvert_exporter": "python",
   "pygments_lexer": "ipython3",
   "version": "3.8.5"
  }
 },
 "nbformat": 4,
 "nbformat_minor": 4
}
