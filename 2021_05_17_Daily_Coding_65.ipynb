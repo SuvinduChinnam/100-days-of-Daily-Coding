{
 "cells": [
  {
   "cell_type": "code",
   "execution_count": 67,
   "metadata": {},
   "outputs": [],
   "source": [
    "import random\n",
    "def game():\n",
    "    action_list=[\"rock\", \"paper\", \"scissors\"]\n",
    "    user_input = str.lower(input(\"Enter what you want to put from the following key -Rock/ Paper/ Scissors\"))\n",
    "    computer_input = random.choice(action_list)\n",
    "    print(f\"You chose {user_input}, Computer chose {computer_input}.\")\n",
    "    if user_input == computer_input:\n",
    "        print(f\"Your Choice is {user_input} too! It's a tie! Try again!\")\n",
    "    elif user_input == \"rock\":\n",
    "        if computer_input == \"scissors\":\n",
    "            print(\"Rock breaks the scissors! Lucky You! You win!!\")\n",
    "        else:\n",
    "            print(\"Paper eats up the rock! Hard Luck! You lose!\")\n",
    "    elif user_input == \"paper\":\n",
    "        if computer_input == \"rock\":\n",
    "            print(\"Paper eats up the rock! Lucky You! You win!!\")\n",
    "        else:\n",
    "            print(\"Scissors shred the paper! Hard Luck! You lose!\")\n",
    "    elif user_input == \"scissors\":\n",
    "        if computer_input == \"paper\":\n",
    "            print(\"Scissors shred the paper! Lucky You! You win!!\")\n",
    "        else:\n",
    "            print(\"Rock breaks the scissors! Hard Luck! You lose!\")\n",
    "    ask=str.lower(input('Do you want to continue (yes/no) \\t'))\n",
    "    if ask=='yes':\n",
    "        game()\n",
    "    elif ask=='no':\n",
    "        print('Thank You for Playing! See you Again !')"
   ]
  },
  {
   "cell_type": "code",
   "execution_count": 68,
   "metadata": {},
   "outputs": [
    {
     "name": "stdout",
     "output_type": "stream",
     "text": [
      "Enter your Name \t Suvindu\n",
      "\n",
      "Hello Suvindu !! Welcome to the Game! \n",
      "Enter what you want to put from the following key -Rock/ Paper/ ScissorsRock\n",
      "You chose rock, Computer chose scissors.\n",
      "Rock breaks the scissors! Lucky You! You win!!\n",
      "Do you want to continue (yes/no) \tYES\n",
      "Enter what you want to put from the following key -Rock/ Paper/ Scissorspaper\n",
      "You chose paper, Computer chose paper.\n",
      "Your Choice is paper too! It's a tie! Try again!\n",
      "Do you want to continue (yes/no) \tNo\n",
      "Thank You for Playing! See you Again !\n"
     ]
    }
   ],
   "source": [
    "user_name=input('Enter your Name \\t ')\n",
    "print(f'\\nHello {user_name} !! Welcome to the Game! ')\n",
    "game()"
   ]
  },
  {
   "cell_type": "code",
   "execution_count": 24,
   "metadata": {},
   "outputs": [],
   "source": []
  },
  {
   "cell_type": "code",
   "execution_count": 30,
   "metadata": {},
   "outputs": [],
   "source": []
  },
  {
   "cell_type": "code",
   "execution_count": 32,
   "metadata": {},
   "outputs": [
    {
     "name": "stdout",
     "output_type": "stream",
     "text": [
      "\n",
      "You chose Rock, Computer chose Rock.\n",
      "\n"
     ]
    }
   ],
   "source": []
  },
  {
   "cell_type": "code",
   "execution_count": 38,
   "metadata": {},
   "outputs": [
    {
     "name": "stdout",
     "output_type": "stream",
     "text": [
      "Your Choice is Rock too! It's a tie! Try again!\n"
     ]
    }
   ],
   "source": []
  },
  {
   "cell_type": "code",
   "execution_count": 40,
   "metadata": {},
   "outputs": [
    {
     "name": "stdout",
     "output_type": "stream",
     "text": [
      "Do you want to continue (yes/no)yes\n"
     ]
    }
   ],
   "source": []
  },
  {
   "cell_type": "code",
   "execution_count": null,
   "metadata": {},
   "outputs": [],
   "source": [
    "\n",
    "    "
   ]
  }
 ],
 "metadata": {
  "kernelspec": {
   "display_name": "Python 3",
   "language": "python",
   "name": "python3"
  },
  "language_info": {
   "codemirror_mode": {
    "name": "ipython",
    "version": 3
   },
   "file_extension": ".py",
   "mimetype": "text/x-python",
   "name": "python",
   "nbconvert_exporter": "python",
   "pygments_lexer": "ipython3",
   "version": "3.8.5"
  }
 },
 "nbformat": 4,
 "nbformat_minor": 4
}
