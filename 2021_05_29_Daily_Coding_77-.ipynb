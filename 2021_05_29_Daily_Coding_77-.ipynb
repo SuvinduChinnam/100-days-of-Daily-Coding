{
 "cells": [
  {
   "cell_type": "code",
   "execution_count": 3,
   "metadata": {},
   "outputs": [],
   "source": [
    "import snoop"
   ]
  },
  {
   "cell_type": "code",
   "execution_count": 16,
   "metadata": {},
   "outputs": [],
   "source": [
    "@snoop\n",
    "def func_main(j):\n",
    "    i=j\n",
    "    while i<=j:\n",
    "        if i%2 ==0:\n",
    "            \n",
    "            return i\n",
    "            i=i-1\n",
    "        else: \n",
    "            return i*i\n",
    "            i=i-1\n",
    "        \n",
    "    "
   ]
  },
  {
   "cell_type": "code",
   "execution_count": 17,
   "metadata": {},
   "outputs": [
    {
     "name": "stderr",
     "output_type": "stream",
     "text": [
      "13:06:07.16 >>> Call to func_main in File \"<ipython-input-16-95ed961e3acc>\", line 2\n",
      "13:06:07.16 ...... j = 7\n",
      "13:06:07.16    2 | def func_main(j):\n",
      "13:06:07.16    3 |     i=j\n",
      "13:06:07.16 .......... i = 7\n",
      "13:06:07.16    4 |     while i<=j:\n",
      "13:06:07.16    5 |         if i%2 ==0:\n",
      "13:06:07.17   10 |             return i*i\n",
      "13:06:07.17 <<< Return value from func_main: 49\n"
     ]
    },
    {
     "data": {
      "text/plain": [
       "49"
      ]
     },
     "execution_count": 17,
     "metadata": {},
     "output_type": "execute_result"
    }
   ],
   "source": [
    "func_main(7)"
   ]
  },
  {
   "cell_type": "code",
   "execution_count": null,
   "metadata": {},
   "outputs": [],
   "source": []
  },
  {
   "cell_type": "code",
   "execution_count": null,
   "metadata": {},
   "outputs": [],
   "source": []
  }
 ],
 "metadata": {
  "kernelspec": {
   "display_name": "Python 3",
   "language": "python",
   "name": "python3"
  },
  "language_info": {
   "codemirror_mode": {
    "name": "ipython",
    "version": 3
   },
   "file_extension": ".py",
   "mimetype": "text/x-python",
   "name": "python",
   "nbconvert_exporter": "python",
   "pygments_lexer": "ipython3",
   "version": "3.8.5"
  }
 },
 "nbformat": 4,
 "nbformat_minor": 4
}
