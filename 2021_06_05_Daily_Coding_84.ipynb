{
 "cells": [
  {
   "cell_type": "code",
   "execution_count": 22,
   "metadata": {},
   "outputs": [],
   "source": [
    "import random"
   ]
  },
  {
   "cell_type": "code",
   "execution_count": 27,
   "metadata": {},
   "outputs": [],
   "source": [
    "req=[]\n",
    "for i in range(10):\n",
    "    n=random.randrange(10,5000)\n",
    "    req.append(n)"
   ]
  },
  {
   "cell_type": "code",
   "execution_count": 28,
   "metadata": {},
   "outputs": [],
   "source": [
    "def insertion_sort(arr):\n",
    "    length_arr = len(arr)\n",
    "    i = 1\n",
    "    last = arr[0]\n",
    "    while i < length_arr:\n",
    "        if arr[i] < last:\n",
    "          temp = arr.pop(i)\n",
    "          for j in range(0,i):\n",
    "            if temp < arr[j]:\n",
    "              arr.insert(j,temp)\n",
    "              break\n",
    "        last = arr[i]\n",
    "        print(arr)\n",
    "        i += 1"
   ]
  },
  {
   "cell_type": "code",
   "execution_count": 29,
   "metadata": {},
   "outputs": [
    {
     "name": "stdout",
     "output_type": "stream",
     "text": [
      "[545, 2656, 1520, 2432, 1172, 3476, 3972, 2014, 2738, 2502]\n",
      "[545, 1520, 2656, 2432, 1172, 3476, 3972, 2014, 2738, 2502]\n",
      "[545, 1520, 2432, 2656, 1172, 3476, 3972, 2014, 2738, 2502]\n",
      "[545, 1172, 1520, 2432, 2656, 3476, 3972, 2014, 2738, 2502]\n",
      "[545, 1172, 1520, 2432, 2656, 3476, 3972, 2014, 2738, 2502]\n",
      "[545, 1172, 1520, 2432, 2656, 3476, 3972, 2014, 2738, 2502]\n",
      "[545, 1172, 1520, 2014, 2432, 2656, 3476, 3972, 2738, 2502]\n",
      "[545, 1172, 1520, 2014, 2432, 2656, 2738, 3476, 3972, 2502]\n",
      "[545, 1172, 1520, 2014, 2432, 2502, 2656, 2738, 3476, 3972]\n",
      "CPU times: user 1.15 ms, sys: 1.33 ms, total: 2.48 ms\n",
      "Wall time: 1.27 ms\n"
     ]
    }
   ],
   "source": [
    "%%time\n",
    "insertion_sort(req)"
   ]
  },
  {
   "cell_type": "code",
   "execution_count": null,
   "metadata": {},
   "outputs": [],
   "source": []
  }
 ],
 "metadata": {
  "kernelspec": {
   "display_name": "Python 3",
   "language": "python",
   "name": "python3"
  },
  "language_info": {
   "codemirror_mode": {
    "name": "ipython",
    "version": 3
   },
   "file_extension": ".py",
   "mimetype": "text/x-python",
   "name": "python",
   "nbconvert_exporter": "python",
   "pygments_lexer": "ipython3",
   "version": "3.8.5"
  }
 },
 "nbformat": 4,
 "nbformat_minor": 4
}
