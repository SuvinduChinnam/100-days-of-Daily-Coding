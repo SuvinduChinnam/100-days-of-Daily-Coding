{
 "cells": [
  {
   "cell_type": "code",
   "execution_count": 26,
   "metadata": {},
   "outputs": [],
   "source": [
    "import random    "
   ]
  },
  {
   "cell_type": "code",
   "execution_count": 47,
   "metadata": {},
   "outputs": [],
   "source": [
    "req=[]\n",
    "for i in range(20):\n",
    "    n=random.randrange(10,5000)\n",
    "    req.append(n)"
   ]
  },
  {
   "cell_type": "code",
   "execution_count": 48,
   "metadata": {},
   "outputs": [
    {
     "name": "stdout",
     "output_type": "stream",
     "text": [
      "[1980, 1375, 3238, 3688, 4250, 3560, 784, 4966, 3291, 2716, 595, 924, 2729, 1792, 3465, 1622, 2261, 2192, 2132, 4054]\n"
     ]
    }
   ],
   "source": [
    "print(req)"
   ]
  },
  {
   "cell_type": "code",
   "execution_count": 49,
   "metadata": {},
   "outputs": [
    {
     "name": "stdout",
     "output_type": "stream",
     "text": [
      "[1375, 1980, 3238, 3688, 3560, 784, 4250, 3291, 2716, 595, 924, 2729, 1792, 3465, 1622, 2261, 2192, 2132, 4054, 4966]\n"
     ]
    }
   ],
   "source": [
    "x = 0\n",
    "while x < len(req):\n",
    "    for i in range(0,len(req)-1):\n",
    "        test=False\n",
    "        if req[i] > req[i+1]:\n",
    "            req[i] , req[i+1] = req[i+1] , req[i]\n",
    "            test=True\n",
    "    if test==False:\n",
    "        break\n",
    "    x += 1\n",
    "    print(req)\n",
    "\n"
   ]
  },
  {
   "cell_type": "code",
   "execution_count": null,
   "metadata": {},
   "outputs": [],
   "source": []
  }
 ],
 "metadata": {
  "kernelspec": {
   "display_name": "Python 3",
   "language": "python",
   "name": "python3"
  },
  "language_info": {
   "codemirror_mode": {
    "name": "ipython",
    "version": 3
   },
   "file_extension": ".py",
   "mimetype": "text/x-python",
   "name": "python",
   "nbconvert_exporter": "python",
   "pygments_lexer": "ipython3",
   "version": "3.8.5"
  }
 },
 "nbformat": 4,
 "nbformat_minor": 4
}
